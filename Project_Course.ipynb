{
  "cells": [
    {
      "cell_type": "markdown",
      "metadata": {
        "id": "uIf03RxOiy9h"
      },
      "source": [
        "Problem: Many small businesses in the United States require additional funds in order to start up and operate, whether it comes from crowdfunding, or from small business loans. The issue is that with rising interest rates post-pandemic, banks are hesitant to take on risk in these loans for fear of them not being paid back in full.\n"
      ]
    },
    {
      "cell_type": "markdown",
      "metadata": {
        "id": "2qYgIQGPGFZ_"
      },
      "source": [
        "Question: Can the terms of a small business loan lent between 2020 and 2023 predict whether the borrower will pay it back in full or if it needs to be charged off?\n",
        "\n",
        "\n"
      ]
    },
    {
      "cell_type": "markdown",
      "metadata": {
        "id": "_vyrQAzKUIhG"
      },
      "source": [
        "Background Info: Our dataset uses data from the U.S. Small Business Administration on 504 and 7a loans which are real estate and capital loans. These loans are typically under 20 million and are prone settlements when finances go south instead of full loan forgiveness. The key to favorable terms in the settlements is to predict which loans are going to be paid back in time and which are going to need to be settled.\n",
        "\n",
        "\n",
        "\n"
      ]
    },
    {
      "cell_type": "code",
      "execution_count": null,
      "metadata": {
        "id": "RG_ci9lxFcFE"
      },
      "outputs": [],
      "source": [
        "#IMPORT LIBRARIES\n",
        "import pandas as pd\n",
        "import numpy as np\n",
        "import matplotlib.pyplot as plt\n",
        "from sklearn.model_selection import train_test_split\n",
        "from sklearn.preprocessing import StandardScaler\n",
        "from sklearn.preprocessing import MinMaxScaler\n",
        "from sklearn.neighbors import KNeighborsClassifier\n",
        "from sklearn.neighbors import KNeighborsRegressor\n",
        "from sklearn import metrics\n",
        "import random\n",
        "import seaborn as sns\n",
        "import pandas as pd\n",
        "from sklearn.model_selection import train_test_split\n",
        "from sklearn.ensemble import RandomForestClassifier\n",
        "from sklearn.metrics import accuracy_score\n",
        "from sklearn.metrics import ConfusionMatrixDisplay\n",
        "\n"
      ]
    },
    {
      "cell_type": "code",
      "execution_count": null,
      "metadata": {
        "colab": {
          "base_uri": "https://localhost:8080/"
        },
        "id": "xp2IHgNKGECt",
        "outputId": "bac446b6-eabc-4fd4-fda7-b61e0d5890d7"
      },
      "outputs": [
        {
          "output_type": "stream",
          "name": "stderr",
          "text": [
            "<ipython-input-2-213bf44345a7>:3: DtypeWarning: Columns (34,35,39) have mixed types. Specify dtype option on import or set low_memory=False.\n",
            "  loans = pd.read_csv('https://data.sba.gov/dataset/0ff8e8e9-b967-4f4e-987c-6ac78c575087/resource/c71ba6cf-b4e0-4e60-98f0-48aeaf4c6460/download/foia-7afy2020-present-asof-230930.csv', encoding = 'latin-1')\n"
          ]
        }
      ],
      "source": [
        "#Load Data\n",
        "\n",
        "loans = pd.read_csv('https://data.sba.gov/dataset/0ff8e8e9-b967-4f4e-987c-6ac78c575087/resource/c71ba6cf-b4e0-4e60-98f0-48aeaf4c6460/download/foia-7afy2020-present-asof-230930.csv', encoding = 'latin-1')\n"
      ]
    },
    {
      "cell_type": "code",
      "execution_count": null,
      "metadata": {
        "colab": {
          "base_uri": "https://localhost:8080/"
        },
        "id": "Ld-qB8UMO8rK",
        "outputId": "e140624f-4613-454e-edb0-50e148d2b6ae"
      },
      "outputs": [
        {
          "output_type": "stream",
          "name": "stdout",
          "text": [
            "<class 'pandas.core.frame.DataFrame'>\n",
            "RangeIndex: 198691 entries, 0 to 198690\n",
            "Data columns (total 40 columns):\n",
            " #   Column                 Non-Null Count   Dtype  \n",
            "---  ------                 --------------   -----  \n",
            " 0   AsOfDate               198691 non-null  int64  \n",
            " 1   Program                198691 non-null  object \n",
            " 2   BorrName               198689 non-null  object \n",
            " 3   BorrStreet             198691 non-null  object \n",
            " 4   BorrCity               198691 non-null  object \n",
            " 5   BorrState              198691 non-null  object \n",
            " 6   BorrZip                198691 non-null  int64  \n",
            " 7   BankName               198691 non-null  object \n",
            " 8   BankFDICNumber         179739 non-null  float64\n",
            " 9   BankNCUANumber         5827 non-null    float64\n",
            " 10  BankStreet             198691 non-null  object \n",
            " 11  BankCity               198691 non-null  object \n",
            " 12  BankState              198691 non-null  object \n",
            " 13  BankZip                198691 non-null  int64  \n",
            " 14  GrossApproval          198687 non-null  float64\n",
            " 15  SBAGuaranteedApproval  198687 non-null  float64\n",
            " 16  ApprovalDate           198691 non-null  object \n",
            " 17  ApprovalFiscalYear     198691 non-null  int64  \n",
            " 18  FirstDisbursementDate  170261 non-null  object \n",
            " 19  DeliveryMethod         198687 non-null  object \n",
            " 20  subpgmdesc             198691 non-null  object \n",
            " 21  InitialInterestRate    198689 non-null  float64\n",
            " 22  TermInMonths           198691 non-null  int64  \n",
            " 23  NaicsCode              198687 non-null  float64\n",
            " 24  NaicsDescription       189563 non-null  object \n",
            " 25  FranchiseCode          27807 non-null   object \n",
            " 26  FranchiseName          27703 non-null   object \n",
            " 27  ProjectCounty          198681 non-null  object \n",
            " 28  ProjectState           198691 non-null  object \n",
            " 29  SBADistrictOffice      198691 non-null  object \n",
            " 30  CongressionalDistrict  198686 non-null  float64\n",
            " 31  BusinessType           198690 non-null  object \n",
            " 32  BusinessAge            198579 non-null  object \n",
            " 33  LoanStatus             198691 non-null  object \n",
            " 34  PaidInFullDate         18821 non-null   object \n",
            " 35  ChargeOffDate          818 non-null     object \n",
            " 36  GrossChargeOffAmount   198691 non-null  int64  \n",
            " 37  RevolverStatus         198691 non-null  int64  \n",
            " 38  JobsSupported          198691 non-null  int64  \n",
            " 39  SOLDSECMRTIND          67991 non-null   object \n",
            "dtypes: float64(7), int64(8), object(25)\n",
            "memory usage: 60.6+ MB\n"
          ]
        }
      ],
      "source": [
        "loans.info()"
      ]
    },
    {
      "cell_type": "code",
      "execution_count": null,
      "metadata": {
        "id": "yvEvDkeHOxtv"
      },
      "outputs": [],
      "source": [
        "#Drop Columns (Non-predictive)\n",
        "\n",
        "to_drop = ['AsOfDate', 'Program', 'SOLDSECMRTIND', 'BorrName', 'BorrStreet', 'BorrCity', 'BorrZip', 'BankName','BankFDICNumber','BankNCUANumber','BankStreet','BankCity','BankZip','ApprovalDate','FirstDisbursementDate','NaicsCode','NaicsDescription', 'FranchiseCode', 'FranchiseName','ProjectCounty','SBADistrictOffice','CongressionalDistrict','PaidInFullDate','ChargeOffDate', 'GrossChargeOffAmount']\n",
        "loans_dropped = loans.drop(columns = to_drop, axis=1)"
      ]
    },
    {
      "cell_type": "code",
      "execution_count": null,
      "metadata": {
        "colab": {
          "base_uri": "https://localhost:8080/"
        },
        "id": "4uw7Y7zTQyJQ",
        "outputId": "3238a28b-0945-44e1-ba7a-a9609213c4d5"
      },
      "outputs": [
        {
          "output_type": "stream",
          "name": "stdout",
          "text": [
            "<class 'pandas.core.frame.DataFrame'>\n",
            "RangeIndex: 198691 entries, 0 to 198690\n",
            "Data columns (total 15 columns):\n",
            " #   Column                 Non-Null Count   Dtype  \n",
            "---  ------                 --------------   -----  \n",
            " 0   BorrState              198691 non-null  object \n",
            " 1   BankState              198691 non-null  object \n",
            " 2   GrossApproval          198687 non-null  float64\n",
            " 3   SBAGuaranteedApproval  198687 non-null  float64\n",
            " 4   ApprovalFiscalYear     198691 non-null  int64  \n",
            " 5   DeliveryMethod         198687 non-null  object \n",
            " 6   subpgmdesc             198691 non-null  object \n",
            " 7   InitialInterestRate    198689 non-null  float64\n",
            " 8   TermInMonths           198691 non-null  int64  \n",
            " 9   ProjectState           198691 non-null  object \n",
            " 10  BusinessType           198690 non-null  object \n",
            " 11  BusinessAge            198579 non-null  object \n",
            " 12  LoanStatus             198691 non-null  object \n",
            " 13  RevolverStatus         198691 non-null  int64  \n",
            " 14  JobsSupported          198691 non-null  int64  \n",
            "dtypes: float64(3), int64(4), object(8)\n",
            "memory usage: 22.7+ MB\n"
          ]
        }
      ],
      "source": [
        "loans_dropped.info()"
      ]
    },
    {
      "cell_type": "code",
      "execution_count": null,
      "metadata": {
        "id": "mtVL8Xo-Q-u-",
        "colab": {
          "base_uri": "https://localhost:8080/",
          "height": 523
        },
        "outputId": "ebdc5607-c404-45d7-a613-1d11df9151b8"
      },
      "outputs": [
        {
          "output_type": "execute_result",
          "data": {
            "text/plain": [
              "<seaborn.axisgrid.FacetGrid at 0x7891feca7fa0>"
            ]
          },
          "metadata": {},
          "execution_count": 6
        },
        {
          "output_type": "display_data",
          "data": {
            "text/plain": [
              "<Figure size 709.875x500 with 1 Axes>"
            ],
            "image/png": "[encoded data removed]"
          },
          "metadata": {}
        }
      ],
      "source": [
        "#Check NAs\n",
        "\n",
        "sns.displot(\n",
        "    data=loans_dropped.isna().melt(value_name=\"missing\"),\n",
        "    y=\"variable\",\n",
        "    hue=\"missing\",\n",
        "    multiple=\"fill\",\n",
        "    aspect=1.25)"
      ]
    },
    {
      "cell_type": "code",
      "source": [
        "year_counts = loans_dropped['ApprovalFiscalYear'].value_counts()\n",
        "plt.figure(figsize=(8, 8))\n",
        "plt.pie(year_counts, labels=year_counts.index, autopct='%1.1f%%', startangle=90)\n",
        "plt.title('Distribution of Approval Fiscal Year')\n",
        "plt.show()"
      ],
      "metadata": {
        "colab": {
          "base_uri": "https://localhost:8080/",
          "height": 675
        },
        "id": "9f_vLM2E5mmZ",
        "outputId": "bc759f73-2278-4099-87b0-f9d4cda76ca0"
      },
      "execution_count": null,
      "outputs": [
        {
          "output_type": "display_data",
          "data": {
            "text/plain": [
              "<Figure size 800x800 with 1 Axes>"
            ],
            "image/png": "[encoded data removed]"
          },
          "metadata": {}
        }
      ]
    },
    {
      "cell_type": "code",
      "source": [
        "plt.figure(figsize=(10, 6))\n",
        "sns.countplot(x='DeliveryMethod', data=loans_dropped)\n",
        "plt.title('Distribution of DeliveryMethod')\n",
        "plt.show()\n"
      ],
      "metadata": {
        "colab": {
          "base_uri": "https://localhost:8080/",
          "height": 564
        },
        "id": "o4LHdtsd3X7z",
        "outputId": "a98d0605-4f33-4555-fc51-7e9e8eaa2e74"
      },
      "execution_count": null,
      "outputs": [
        {
          "output_type": "display_data",
          "data": {
            "text/plain": [
              "<Figure size 1000x600 with 1 Axes>"
            ],
            "image/png": "[encoded data removed]"
          },
          "metadata": {}
        }
      ]
    },
    {
      "cell_type": "code",
      "source": [
        "status_counts = loans_dropped['LoanStatus'].value_counts()\n",
        "plt.figure(figsize=(8, 8))\n",
        "plt.pie(status_counts, labels=status_counts.index, autopct='%1.1f%%', startangle=90)\n",
        "plt.title('Distribution of Loan Status')\n",
        "plt.show()"
      ],
      "metadata": {
        "colab": {
          "base_uri": "https://localhost:8080/",
          "height": 675
        },
        "id": "WViv_HLsO33n",
        "outputId": "f9061389-6799-464d-a4bb-e97c0fd70fb2"
      },
      "execution_count": null,
      "outputs": [
        {
          "output_type": "display_data",
          "data": {
            "text/plain": [
              "<Figure size 800x800 with 1 Axes>"
            ],
            "image/png": "[encoded data removed]"
          },
          "metadata": {}
        }
      ]
    },
    {
      "cell_type": "code",
      "execution_count": null,
      "metadata": {
        "id": "herpxo9UThGM"
      },
      "outputs": [],
      "source": [
        "state_to_region = {\n",
        "    'AL': 'South', 'AK': 'West', 'AZ': 'West', 'AR': 'South', 'CA': 'West', 'CO': 'West',\n",
        "    'CT': 'Northeast', 'DE': 'South', 'FL': 'South', 'GA': 'South', 'HI': 'West', 'ID': 'West',\n",
        "    'IL': 'Midwest', 'IN': 'Midwest', 'IA': 'Midwest', 'KS': 'Midwest', 'KY': 'South', 'LA': 'South',\n",
        "    'ME': 'Northeast', 'MD': 'South', 'MA': 'Northeast', 'MI': 'Midwest', 'MN': 'Midwest', 'MS': 'South',\n",
        "    'MO': 'Midwest', 'MT': 'West', 'NE': 'Midwest', 'NV': 'West', 'NH': 'Northeast', 'NJ': 'Northeast',\n",
        "    'NM': 'West', 'NY': 'Northeast', 'NC': 'South', 'ND': 'Midwest', 'OH': 'Midwest', 'OK': 'South',\n",
        "    'OR': 'West', 'PA': 'Northeast', 'RI': 'Northeast', 'SC': 'South', 'SD': 'Midwest', 'TN': 'South',\n",
        "    'TX': 'South', 'UT': 'West', 'VT': 'Northeast', 'VA': 'South', 'WA': 'West', 'WV': 'South',\n",
        "    'WI': 'Midwest', 'WY': 'West', 'DC': 'South', 'VI': 'Territory', 'GU': 'Territory', 'PR': 'Territory'\n",
        "}\n",
        "\n",
        "# Replace state abbreviations with census regions in the 'BorrState' column\n",
        "loans_dropped['BorrState'] = loans_dropped['BorrState'].replace(state_to_region)\n",
        "\n",
        "# Replace state abbreviations with census regions in the 'BorrState' column\n",
        "loans_dropped['BankState'] = loans_dropped['BankState'].replace(state_to_region)\n",
        "\n",
        "# Replace state abbreviations with census regions in the 'BorrState' column\n",
        "loans_dropped['ProjectState'] = loans_dropped['ProjectState'].replace(state_to_region)\n",
        "\n",
        "region_to_number = {\n",
        "    'Midwest': 1,\n",
        "    'South': 2,\n",
        "    'Northeast': 3,\n",
        "    'West': 4,\n",
        "    'Territory': 5\n",
        "}\n",
        "\n",
        "# Replace state abbreviations with census regions in the 'BorrState' column\n",
        "loans_dropped['BorrState'] = loans_dropped['BorrState'].replace(region_to_number)\n",
        "\n",
        "# Replace state abbreviations with census regions in the 'BorrState' column\n",
        "loans_dropped['BankState'] = loans_dropped['BankState'].replace(region_to_number)\n",
        "\n",
        "# Replace state abbreviations with census regions in the 'BorrState' column\n",
        "loans_dropped['ProjectState'] = loans_dropped['ProjectState'].replace(region_to_number)\n",
        "\n",
        "\n"
      ]
    },
    {
      "cell_type": "code",
      "execution_count": null,
      "metadata": {
        "id": "0mMQI50NYMG1"
      },
      "outputs": [],
      "source": [
        "# Mapping of categories to numerical codes\n",
        "category_mapping_business_type = {\n",
        "    'CORPORATION': 1,\n",
        "    'INDIVIDUAL': 2,\n",
        "    'PARTNERSHIP': 3\n",
        "}\n",
        "\n",
        "# Adding a new column with numerical codes based on BusinessType column\n",
        "loans_dropped['BusinessType'] = loans_dropped['BusinessType'].map(category_mapping_business_type)"
      ]
    },
    {
      "cell_type": "code",
      "execution_count": null,
      "metadata": {
        "id": "tn_zttwEZkCl"
      },
      "outputs": [],
      "source": [
        "category_mapping_business_age = {\n",
        "    'Existing or more than 2 years old': 1,\n",
        "    'New Business or 2 years or less': 2,\n",
        "    'Startup, Loan Funds will Open Business': 3,\n",
        "    'Change of Ownership': 4,\n",
        "    'Unanswered': 5\n",
        "}\n",
        "\n",
        "# Adding a new column with numerical codes based on BusinessAge column\n",
        "loans_dropped['BusinessAge'] = loans_dropped['BusinessAge'].map(category_mapping_business_age)"
      ]
    },
    {
      "cell_type": "code",
      "execution_count": null,
      "metadata": {
        "id": "9cpHOTysE-p_"
      },
      "outputs": [],
      "source": [
        "year_to_identifier = {\n",
        "    2020: 1,\n",
        "    2021: 2,\n",
        "    2022: 3,\n",
        "    2023: 4\n",
        "}\n",
        "\n",
        "loans_dropped[\"ApprovalFiscalYear\"] = loans_dropped[\"ApprovalFiscalYear\"].replace(year_to_identifier)"
      ]
    },
    {
      "cell_type": "code",
      "execution_count": null,
      "metadata": {
        "id": "CZ8FiBIlFruR"
      },
      "outputs": [],
      "source": [
        "delivery_method_to_identifier = {\n",
        "    'PLP': 1,\n",
        "    'SBA EXPRES': 2,\n",
        "    'OTH 7A': 3,\n",
        "    'CA': 4,\n",
        "    'INTER TRDE': 5,\n",
        "    'EWCP': 6,\n",
        "    'EXPRES EXP': 7,\n",
        "    'CRL': 8\n",
        "}\n",
        "\n",
        "loans_dropped[\"DeliveryMethod\"] = loans_dropped[\"DeliveryMethod\"].replace(delivery_method_to_identifier)"
      ]
    },
    {
      "cell_type": "code",
      "execution_count": null,
      "metadata": {
        "id": "Lm86S4fyF3z9"
      },
      "outputs": [],
      "source": [
        "subpgmdesc_identifier = {\n",
        "    'Guaranty': 1,\n",
        "    'FA$TRK (Small Loan Express)': 2,\n",
        "    'Community Advantage Initiative': 3,\n",
        "    'Standard Asset Based': 4,\n",
        "    'International Trade - Sec, 7(a) (16)': 5,\n",
        "    'Revolving Line of Credit Exports - Sec. 7(a) (14)': 6,\n",
        "    'Contract Guaranty': 7,\n",
        "    'Seasonal Line of Credit': 8,\n",
        "    'Small General Contractors - Sec. 7(a) (9)': 9\n",
        "}\n",
        "\n",
        "loans_dropped[\"subpgmdesc\"] = loans_dropped[\"subpgmdesc\"].replace(subpgmdesc_identifier)"
      ]
    },
    {
      "cell_type": "code",
      "execution_count": null,
      "metadata": {
        "id": "_hp1Abr5GLYy"
      },
      "outputs": [],
      "source": [
        "# Dropping 'EXEMPT' statuses\n",
        "loans_dropped = loans_dropped[loans_dropped['LoanStatus'] != 'EXEMPT']\n",
        "loans_dropped = loans_dropped[loans_dropped['LoanStatus'] != 'CANCLD']\n",
        "\n",
        "loan_status_to_identifier = {\n",
        "\n",
        "    'COMMIT': 0,\n",
        "    'PIF': 0,\n",
        "    'CHGOFF': 1\n",
        "}\n",
        "\n",
        "# Replace values in the \"LoanStatus\" column using the mapping\n",
        "loans_dropped[\"LoanStatus\"] = loans_dropped[\"LoanStatus\"].replace(loan_status_to_identifier)"
      ]
    },
    {
      "cell_type": "code",
      "execution_count": null,
      "metadata": {
        "id": "8Kz_GR5-LzqQ",
        "colab": {
          "base_uri": "https://localhost:8080/"
        },
        "outputId": "8c44a99c-5d04-47a7-c35d-6832cba32dc0"
      },
      "outputs": [
        {
          "output_type": "execute_result",
          "data": {
            "text/plain": [
              "0    40677\n",
              "dtype: int64"
            ]
          },
          "metadata": {},
          "execution_count": 17
        }
      ],
      "source": [
        "# # Count NaN values in each row\n",
        "loans_dropped = loans_dropped.dropna()\n",
        "\n",
        "# Count NaN values in each row (61 records removed)\n",
        "na_count_per_row = loans_dropped.isna().sum(axis=1)\n",
        "\n",
        "loans_dropped.reset_index(drop=True, inplace=True)\n",
        "\n",
        "na_count_per_row.value_counts()"
      ]
    },
    {
      "cell_type": "code",
      "source": [
        "loan_status_counts = loans_dropped['LoanStatus'].value_counts()\n",
        "print(loan_status_counts)\n",
        "prevalence = loans_dropped['LoanStatus'].value_counts()[1] / loans_dropped['LoanStatus'].count()\n",
        "print(prevalence)"
      ],
      "metadata": {
        "colab": {
          "base_uri": "https://localhost:8080/"
        },
        "id": "HiQVqslrVb9L",
        "outputId": "533fe120-a440-42d6-8f0b-4267b62290f2"
      },
      "execution_count": null,
      "outputs": [
        {
          "output_type": "stream",
          "name": "stdout",
          "text": [
            "0    39890\n",
            "1      787\n",
            "Name: LoanStatus, dtype: int64\n",
            "0.019347542837475723\n"
          ]
        }
      ]
    },
    {
      "cell_type": "code",
      "execution_count": null,
      "metadata": {
        "id": "Nucu2_7MfBsp",
        "colab": {
          "base_uri": "https://localhost:8080/",
          "height": 443
        },
        "outputId": "0c1b5339-f6a9-4901-e9c0-1a9f124b9511"
      },
      "outputs": [
        {
          "output_type": "execute_result",
          "data": {
            "text/plain": [
              "       BorrState  BankState  GrossApproval  SBAGuaranteedApproval  \\\n",
              "0              4          4       350000.0               175000.0   \n",
              "1              2          4        22000.0                11000.0   \n",
              "2              4          1        49000.0                24500.0   \n",
              "3              3          4        57000.0                28500.0   \n",
              "4              4          1       101000.0                50500.0   \n",
              "...          ...        ...            ...                    ...   \n",
              "40672          3          2       100000.0                50000.0   \n",
              "40673          1          1       736000.0               552000.0   \n",
              "40674          3          3      1715000.0              1286250.0   \n",
              "40675          2          1       982000.0               736500.0   \n",
              "40676          3          3       438400.0               328800.0   \n",
              "\n",
              "       ApprovalFiscalYear  DeliveryMethod  subpgmdesc  InitialInterestRate  \\\n",
              "0                       1             2.0           2                 5.50   \n",
              "1                       1             2.0           2                 9.00   \n",
              "2                       1             2.0           2                11.50   \n",
              "3                       1             2.0           2                 7.25   \n",
              "4                       1             2.0           2                 9.75   \n",
              "...                   ...             ...         ...                  ...   \n",
              "40672                   4             2.0           2                14.50   \n",
              "40673                   4             1.0           1                 8.50   \n",
              "40674                   4             1.0           1                11.00   \n",
              "40675                   4             1.0           1                11.25   \n",
              "40676                   4             1.0           1                 9.25   \n",
              "\n",
              "       TermInMonths  ProjectState  BusinessType  BusinessAge  LoanStatus  \\\n",
              "0                63             4           1.0          1.0           0   \n",
              "1                51             2           2.0          1.0           1   \n",
              "2               120             4           1.0          1.0           0   \n",
              "3                36             3           1.0          1.0           0   \n",
              "4                84             4           1.0          1.0           0   \n",
              "...             ...           ...           ...          ...         ...   \n",
              "40672           120             3           1.0          2.0           0   \n",
              "40673           300             1           1.0          3.0           0   \n",
              "40674           120             3           1.0          2.0           0   \n",
              "40675           120             2           1.0          2.0           0   \n",
              "40676           120             3           1.0          3.0           0   \n",
              "\n",
              "       RevolverStatus  JobsSupported  \n",
              "0                   0              0  \n",
              "1                   0              2  \n",
              "2                   1              0  \n",
              "3                   0              6  \n",
              "4                   0              0  \n",
              "...               ...            ...  \n",
              "40672               0              5  \n",
              "40673               0              6  \n",
              "40674               0              8  \n",
              "40675               0             72  \n",
              "40676               0             30  \n",
              "\n",
              "[40677 rows x 15 columns]"
            ],
            "text/html": [
              "\n",
              "  <div id=\"df-f63433c1-e674-4783-bfe4-30319fa71cdb\" class=\"colab-df-container\">\n",
              "    <div>\n",
              "<style scoped>\n",
              "    .dataframe tbody tr th:only-of-type {\n",
              "        vertical-align: middle;\n",
              "    }\n",
              "\n",
              "    .dataframe tbody tr th {\n",
              "        vertical-align: top;\n",
              "    }\n",
              "\n",
              "    .dataframe thead th {\n",
              "        text-align: right;\n",
              "    }\n",
              "</style>\n",
              "<table border=\"1\" class=\"dataframe\">\n",
              "  <thead>\n",
              "    <tr style=\"text-align: right;\">\n",
              "      <th></th>\n",
              "      <th>BorrState</th>\n",
              "      <th>BankState</th>\n",
              "      <th>GrossApproval</th>\n",
              "      <th>SBAGuaranteedApproval</th>\n",
              "      <th>ApprovalFiscalYear</th>\n",
              "      <th>DeliveryMethod</th>\n",
              "      <th>subpgmdesc</th>\n",
              "      <th>InitialInterestRate</th>\n",
              "      <th>TermInMonths</th>\n",
              "      <th>ProjectState</th>\n",
              "      <th>BusinessType</th>\n",
              "      <th>BusinessAge</th>\n",
              "      <th>LoanStatus</th>\n",
              "      <th>RevolverStatus</th>\n",
              "      <th>JobsSupported</th>\n",
              "    </tr>\n",
              "  </thead>\n",
              "  <tbody>\n",
              "    <tr>\n",
              "      <th>0</th>\n",
              "      <td>4</td>\n",
              "      <td>4</td>\n",
              "      <td>350000.0</td>\n",
              "      <td>175000.0</td>\n",
              "      <td>1</td>\n",
              "      <td>2.0</td>\n",
              "      <td>2</td>\n",
              "      <td>5.50</td>\n",
              "      <td>63</td>\n",
              "      <td>4</td>\n",
              "      <td>1.0</td>\n",
              "      <td>1.0</td>\n",
              "      <td>0</td>\n",
              "      <td>0</td>\n",
              "      <td>0</td>\n",
              "    </tr>\n",
              "    <tr>\n",
              "      <th>1</th>\n",
              "      <td>2</td>\n",
              "      <td>4</td>\n",
              "      <td>22000.0</td>\n",
              "      <td>11000.0</td>\n",
              "      <td>1</td>\n",
              "      <td>2.0</td>\n",
              "      <td>2</td>\n",
              "      <td>9.00</td>\n",
              "      <td>51</td>\n",
              "      <td>2</td>\n",
              "      <td>2.0</td>\n",
              "      <td>1.0</td>\n",
              "      <td>1</td>\n",
              "      <td>0</td>\n",
              "      <td>2</td>\n",
              "    </tr>\n",
              "    <tr>\n",
              "      <th>2</th>\n",
              "      <td>4</td>\n",
              "      <td>1</td>\n",
              "      <td>49000.0</td>\n",
              "      <td>24500.0</td>\n",
              "      <td>1</td>\n",
              "      <td>2.0</td>\n",
              "      <td>2</td>\n",
              "      <td>11.50</td>\n",
              "      <td>120</td>\n",
              "      <td>4</td>\n",
              "      <td>1.0</td>\n",
              "      <td>1.0</td>\n",
              "      <td>0</td>\n",
              "      <td>1</td>\n",
              "      <td>0</td>\n",
              "    </tr>\n",
              "    <tr>\n",
              "      <th>3</th>\n",
              "      <td>3</td>\n",
              "      <td>4</td>\n",
              "      <td>57000.0</td>\n",
              "      <td>28500.0</td>\n",
              "      <td>1</td>\n",
              "      <td>2.0</td>\n",
              "      <td>2</td>\n",
              "      <td>7.25</td>\n",
              "      <td>36</td>\n",
              "      <td>3</td>\n",
              "      <td>1.0</td>\n",
              "      <td>1.0</td>\n",
              "      <td>0</td>\n",
              "      <td>0</td>\n",
              "      <td>6</td>\n",
              "    </tr>\n",
              "    <tr>\n",
              "      <th>4</th>\n",
              "      <td>4</td>\n",
              "      <td>1</td>\n",
              "      <td>101000.0</td>\n",
              "      <td>50500.0</td>\n",
              "      <td>1</td>\n",
              "      <td>2.0</td>\n",
              "      <td>2</td>\n",
              "      <td>9.75</td>\n",
              "      <td>84</td>\n",
              "      <td>4</td>\n",
              "      <td>1.0</td>\n",
              "      <td>1.0</td>\n",
              "      <td>0</td>\n",
              "      <td>0</td>\n",
              "      <td>0</td>\n",
              "    </tr>\n",
              "    <tr>\n",
              "      <th>...</th>\n",
              "      <td>...</td>\n",
              "      <td>...</td>\n",
              "      <td>...</td>\n",
              "      <td>...</td>\n",
              "      <td>...</td>\n",
              "      <td>...</td>\n",
              "      <td>...</td>\n",
              "      <td>...</td>\n",
              "      <td>...</td>\n",
              "      <td>...</td>\n",
              "      <td>...</td>\n",
              "      <td>...</td>\n",
              "      <td>...</td>\n",
              "      <td>...</td>\n",
              "      <td>...</td>\n",
              "    </tr>\n",
              "    <tr>\n",
              "      <th>40672</th>\n",
              "      <td>3</td>\n",
              "      <td>2</td>\n",
              "      <td>100000.0</td>\n",
              "      <td>50000.0</td>\n",
              "      <td>4</td>\n",
              "      <td>2.0</td>\n",
              "      <td>2</td>\n",
              "      <td>14.50</td>\n",
              "      <td>120</td>\n",
              "      <td>3</td>\n",
              "      <td>1.0</td>\n",
              "      <td>2.0</td>\n",
              "      <td>0</td>\n",
              "      <td>0</td>\n",
              "      <td>5</td>\n",
              "    </tr>\n",
              "    <tr>\n",
              "      <th>40673</th>\n",
              "      <td>1</td>\n",
              "      <td>1</td>\n",
              "      <td>736000.0</td>\n",
              "      <td>552000.0</td>\n",
              "      <td>4</td>\n",
              "      <td>1.0</td>\n",
              "      <td>1</td>\n",
              "      <td>8.50</td>\n",
              "      <td>300</td>\n",
              "      <td>1</td>\n",
              "      <td>1.0</td>\n",
              "      <td>3.0</td>\n",
              "      <td>0</td>\n",
              "      <td>0</td>\n",
              "      <td>6</td>\n",
              "    </tr>\n",
              "    <tr>\n",
              "      <th>40674</th>\n",
              "      <td>3</td>\n",
              "      <td>3</td>\n",
              "      <td>1715000.0</td>\n",
              "      <td>1286250.0</td>\n",
              "      <td>4</td>\n",
              "      <td>1.0</td>\n",
              "      <td>1</td>\n",
              "      <td>11.00</td>\n",
              "      <td>120</td>\n",
              "      <td>3</td>\n",
              "      <td>1.0</td>\n",
              "      <td>2.0</td>\n",
              "      <td>0</td>\n",
              "      <td>0</td>\n",
              "      <td>8</td>\n",
              "    </tr>\n",
              "    <tr>\n",
              "      <th>40675</th>\n",
              "      <td>2</td>\n",
              "      <td>1</td>\n",
              "      <td>982000.0</td>\n",
              "      <td>736500.0</td>\n",
              "      <td>4</td>\n",
              "      <td>1.0</td>\n",
              "      <td>1</td>\n",
              "      <td>11.25</td>\n",
              "      <td>120</td>\n",
              "      <td>2</td>\n",
              "      <td>1.0</td>\n",
              "      <td>2.0</td>\n",
              "      <td>0</td>\n",
              "      <td>0</td>\n",
              "      <td>72</td>\n",
              "    </tr>\n",
              "    <tr>\n",
              "      <th>40676</th>\n",
              "      <td>3</td>\n",
              "      <td>3</td>\n",
              "      <td>438400.0</td>\n",
              "      <td>328800.0</td>\n",
              "      <td>4</td>\n",
              "      <td>1.0</td>\n",
              "      <td>1</td>\n",
              "      <td>9.25</td>\n",
              "      <td>120</td>\n",
              "      <td>3</td>\n",
              "      <td>1.0</td>\n",
              "      <td>3.0</td>\n",
              "      <td>0</td>\n",
              "      <td>0</td>\n",
              "      <td>30</td>\n",
              "    </tr>\n",
              "  </tbody>\n",
              "</table>\n",
              "<p>40677 rows × 15 columns</p>\n",
              "</div>\n",
              "    <div class=\"colab-df-buttons\">\n",
              "\n",
              "  <div class=\"colab-df-container\">\n",
              "    <button class=\"colab-df-convert\" onclick=\"convertToInteractive('df-f63433c1-e674-4783-bfe4-30319fa71cdb')\"\n",
              "            title=\"Convert this dataframe to an interactive table.\"\n",
              "            style=\"display:none;\">\n",
              "\n",
              "  <svg xmlns=\"http://www.w3.org/2000/svg\" height=\"24px\" viewBox=\"0 -960 960 960\">\n",
              "    <path d=\"M120-120v-720h720v720H120Zm60-500h600v-160H180v160Zm220 220h160v-160H400v160Zm0 220h160v-160H400v160ZM180-400h160v-160H180v160Zm440 0h160v-160H620v160ZM180-180h160v-160H180v160Zm440 0h160v-160H620v160Z\"/>\n",
              "  </svg>\n",
              "    </button>\n",
              "\n",
              "  <style>\n",
              "    .colab-df-container {\n",
              "      display:flex;\n",
              "      gap: 12px;\n",
              "    }\n",
              "\n",
              "    .colab-df-convert {\n",
              "      background-color: #E8F0FE;\n",
              "      border: none;\n",
              "      border-radius: 50%;\n",
              "      cursor: pointer;\n",
              "      display: none;\n",
              "      fill: #1967D2;\n",
              "      height: 32px;\n",
              "      padding: 0 0 0 0;\n",
              "      width: 32px;\n",
              "    }\n",
              "\n",
              "    .colab-df-convert:hover {\n",
              "      background-color: #E2EBFA;\n",
              "      box-shadow: 0px 1px 2px rgba(60, 64, 67, 0.3), 0px 1px 3px 1px rgba(60, 64, 67, 0.15);\n",
              "      fill: #174EA6;\n",
              "    }\n",
              "\n",
              "    .colab-df-buttons div {\n",
              "      margin-bottom: 4px;\n",
              "    }\n",
              "\n",
              "    [theme=dark] .colab-df-convert {\n",
              "      background-color: #3B4455;\n",
              "      fill: #D2E3FC;\n",
              "    }\n",
              "\n",
              "    [theme=dark] .colab-df-convert:hover {\n",
              "      background-color: #434B5C;\n",
              "      box-shadow: 0px 1px 3px 1px rgba(0, 0, 0, 0.15);\n",
              "      filter: drop-shadow(0px 1px 2px rgba(0, 0, 0, 0.3));\n",
              "      fill: #FFFFFF;\n",
              "    }\n",
              "  </style>\n",
              "\n",
              "    <script>\n",
              "      const buttonEl =\n",
              "        document.querySelector('#df-f63433c1-e674-4783-bfe4-30319fa71cdb button.colab-df-convert');\n",
              "      buttonEl.style.display =\n",
              "        google.colab.kernel.accessAllowed ? 'block' : 'none';\n",
              "\n",
              "      async function convertToInteractive(key) {\n",
              "        const element = document.querySelector('#df-f63433c1-e674-4783-bfe4-30319fa71cdb');\n",
              "        const dataTable =\n",
              "          await google.colab.kernel.invokeFunction('convertToInteractive',\n",
              "                                                    [key], {});\n",
              "        if (!dataTable) return;\n",
              "\n",
              "        const docLinkHtml = 'Like what you see? Visit the ' +\n",
              "          '<a target=\"_blank\" href=https://colab.research.google.com/notebooks/data_table.ipynb>data table notebook</a>'\n",
              "          + ' to learn more about interactive tables.';\n",
              "        element.innerHTML = '';\n",
              "        dataTable['output_type'] = 'display_data';\n",
              "        await google.colab.output.renderOutput(dataTable, element);\n",
              "        const docLink = document.createElement('div');\n",
              "        docLink.innerHTML = docLinkHtml;\n",
              "        element.appendChild(docLink);\n",
              "      }\n",
              "    </script>\n",
              "  </div>\n",
              "\n",
              "\n",
              "<div id=\"df-1ddf4643-38d0-4a21-86d8-dbef34c5b5a4\">\n",
              "  <button class=\"colab-df-quickchart\" onclick=\"quickchart('df-1ddf4643-38d0-4a21-86d8-dbef34c5b5a4')\"\n",
              "            title=\"Suggest charts\"\n",
              "            style=\"display:none;\">\n",
              "\n",
              "<svg xmlns=\"http://www.w3.org/2000/svg\" height=\"24px\"viewBox=\"0 0 24 24\"\n",
              "     width=\"24px\">\n",
              "    <g>\n",
              "        <path d=\"M19 3H5c-1.1 0-2 .9-2 2v14c0 1.1.9 2 2 2h14c1.1 0 2-.9 2-2V5c0-1.1-.9-2-2-2zM9 17H7v-7h2v7zm4 0h-2V7h2v10zm4 0h-2v-4h2v4z\"/>\n",
              "    </g>\n",
              "</svg>\n",
              "  </button>\n",
              "\n",
              "<style>\n",
              "  .colab-df-quickchart {\n",
              "      --bg-color: #E8F0FE;\n",
              "      --fill-color: #1967D2;\n",
              "      --hover-bg-color: #E2EBFA;\n",
              "      --hover-fill-color: #174EA6;\n",
              "      --disabled-fill-color: #AAA;\n",
              "      --disabled-bg-color: #DDD;\n",
              "  }\n",
              "\n",
              "  [theme=dark] .colab-df-quickchart {\n",
              "      --bg-color: #3B4455;\n",
              "      --fill-color: #D2E3FC;\n",
              "      --hover-bg-color: #434B5C;\n",
              "      --hover-fill-color: #FFFFFF;\n",
              "      --disabled-bg-color: #3B4455;\n",
              "      --disabled-fill-color: #666;\n",
              "  }\n",
              "\n",
              "  .colab-df-quickchart {\n",
              "    background-color: var(--bg-color);\n",
              "    border: none;\n",
              "    border-radius: 50%;\n",
              "    cursor: pointer;\n",
              "    display: none;\n",
              "    fill: var(--fill-color);\n",
              "    height: 32px;\n",
              "    padding: 0;\n",
              "    width: 32px;\n",
              "  }\n",
              "\n",
              "  .colab-df-quickchart:hover {\n",
              "    background-color: var(--hover-bg-color);\n",
              "    box-shadow: 0 1px 2px rgba(60, 64, 67, 0.3), 0 1px 3px 1px rgba(60, 64, 67, 0.15);\n",
              "    fill: var(--button-hover-fill-color);\n",
              "  }\n",
              "\n",
              "  .colab-df-quickchart-complete:disabled,\n",
              "  .colab-df-quickchart-complete:disabled:hover {\n",
              "    background-color: var(--disabled-bg-color);\n",
              "    fill: var(--disabled-fill-color);\n",
              "    box-shadow: none;\n",
              "  }\n",
              "\n",
              "  .colab-df-spinner {\n",
              "    border: 2px solid var(--fill-color);\n",
              "    border-color: transparent;\n",
              "    border-bottom-color: var(--fill-color);\n",
              "    animation:\n",
              "      spin 1s steps(1) infinite;\n",
              "  }\n",
              "\n",
              "  @keyframes spin {\n",
              "    0% {\n",
              "      border-color: transparent;\n",
              "      border-bottom-color: var(--fill-color);\n",
              "      border-left-color: var(--fill-color);\n",
              "    }\n",
              "    20% {\n",
              "      border-color: transparent;\n",
              "      border-left-color: var(--fill-color);\n",
              "      border-top-color: var(--fill-color);\n",
              "    }\n",
              "    30% {\n",
              "      border-color: transparent;\n",
              "      border-left-color: var(--fill-color);\n",
              "      border-top-color: var(--fill-color);\n",
              "      border-right-color: var(--fill-color);\n",
              "    }\n",
              "    40% {\n",
              "      border-color: transparent;\n",
              "      border-right-color: var(--fill-color);\n",
              "      border-top-color: var(--fill-color);\n",
              "    }\n",
              "    60% {\n",
              "      border-color: transparent;\n",
              "      border-right-color: var(--fill-color);\n",
              "    }\n",
              "    80% {\n",
              "      border-color: transparent;\n",
              "      border-right-color: var(--fill-color);\n",
              "      border-bottom-color: var(--fill-color);\n",
              "    }\n",
              "    90% {\n",
              "      border-color: transparent;\n",
              "      border-bottom-color: var(--fill-color);\n",
              "    }\n",
              "  }\n",
              "</style>\n",
              "\n",
              "  <script>\n",
              "    async function quickchart(key) {\n",
              "      const quickchartButtonEl =\n",
              "        document.querySelector('#' + key + ' button');\n",
              "      quickchartButtonEl.disabled = true;  // To prevent multiple clicks.\n",
              "      quickchartButtonEl.classList.add('colab-df-spinner');\n",
              "      try {\n",
              "        const charts = await google.colab.kernel.invokeFunction(\n",
              "            'suggestCharts', [key], {});\n",
              "      } catch (error) {\n",
              "        console.error('Error during call to suggestCharts:', error);\n",
              "      }\n",
              "      quickchartButtonEl.classList.remove('colab-df-spinner');\n",
              "      quickchartButtonEl.classList.add('colab-df-quickchart-complete');\n",
              "    }\n",
              "    (() => {\n",
              "      let quickchartButtonEl =\n",
              "        document.querySelector('#df-1ddf4643-38d0-4a21-86d8-dbef34c5b5a4 button');\n",
              "      quickchartButtonEl.style.display =\n",
              "        google.colab.kernel.accessAllowed ? 'block' : 'none';\n",
              "    })();\n",
              "  </script>\n",
              "</div>\n",
              "    </div>\n",
              "  </div>\n"
            ]
          },
          "metadata": {},
          "execution_count": 19
        }
      ],
      "source": [
        "loans_dropped"
      ]
    },
    {
      "cell_type": "code",
      "execution_count": null,
      "metadata": {
        "id": "QydDz3Xsg9o0",
        "colab": {
          "base_uri": "https://localhost:8080/"
        },
        "outputId": "a1c28b11-58a0-40ab-be53-76be845d7260"
      },
      "outputs": [
        {
          "output_type": "stream",
          "name": "stdout",
          "text": [
            "Accuracy: 0.9314159292035398\n"
          ]
        }
      ],
      "source": [
        "# Separate features (X) and target variable (y)\n",
        "X = loans_dropped.drop('LoanStatus', axis=1).drop('TermInMonths', axis = 1)\n",
        "y = loans_dropped['LoanStatus']\n",
        "\n",
        "# List of columns to leave untouched\n",
        "columns_to_leave_untouched = ['BusinessAge', 'ApprovalFiscalYear', 'BusinessType', 'BorrState', 'BankState', 'ProjectState', 'DeliveryMethod', 'subpgmdesc', 'LoanStatus']\n",
        "\n",
        "# List of columns to scale\n",
        "columns_to_scale = [col for col in X.columns if col not in columns_to_leave_untouched]\n",
        "\n",
        "\n",
        "# Create a copy of your features\n",
        "X_scaled = X.copy()\n",
        "\n",
        "# Scale only selected columns\n",
        "scaler = StandardScaler()\n",
        "X_scaled[columns_to_scale] = scaler.fit_transform(X_scaled[columns_to_scale])\n",
        "\n",
        "# Splitting the data into train and test sets\n",
        "X_train, X_test, y_train, y_test = train_test_split(X_scaled, y, test_size=0.2, random_state=5)\n",
        "\n",
        "# Initialize the model\n",
        "\n",
        "model = RandomForestClassifier(max_depth = 13, random_state=5, class_weight = \"balanced\")\n",
        "\n",
        "# Train the model\n",
        "model.fit(X_train, y_train)\n",
        "\n",
        "# Make predictions\n",
        "predictions = model.predict(X_test)\n",
        "\n",
        "# Evaluate accuracy\n",
        "accuracy = accuracy_score(y_test, predictions)\n",
        "print(f\"Accuracy: {accuracy}\")"
      ]
    },
    {
      "cell_type": "code",
      "execution_count": null,
      "metadata": {
        "id": "cWoCkISVoR47",
        "colab": {
          "base_uri": "https://localhost:8080/"
        },
        "outputId": "6b88c763-b729-4095-85b3-fc518caf7d01"
      },
      "outputs": [
        {
          "output_type": "stream",
          "name": "stdout",
          "text": [
            "                  Feature  Importance\n",
            "4      ApprovalFiscalYear    0.267865\n",
            "7     InitialInterestRate    0.188117\n",
            "2           GrossApproval    0.163698\n",
            "3   SBAGuaranteedApproval    0.122982\n",
            "12          JobsSupported    0.081430\n",
            "10            BusinessAge    0.038056\n",
            "1               BankState    0.035308\n",
            "8            ProjectState    0.023609\n",
            "0               BorrState    0.023314\n",
            "11         RevolverStatus    0.016649\n",
            "5          DeliveryMethod    0.014617\n",
            "6              subpgmdesc    0.013887\n",
            "9            BusinessType    0.010467\n"
          ]
        }
      ],
      "source": [
        "# Get feature importances\n",
        "feature_importances = model.feature_importances_\n",
        "\n",
        "# Create a DataFrame to display the feature importances\n",
        "feature_importance_df = pd.DataFrame({'Feature': X_train.columns, 'Importance': feature_importances})\n",
        "feature_importance_df = feature_importance_df.sort_values(by='Importance', ascending=False)\n",
        "\n",
        "# Print or visualize the feature importances\n",
        "print(feature_importance_df)"
      ]
    },
    {
      "cell_type": "code",
      "execution_count": null,
      "metadata": {
        "id": "SXXO3l5poejF",
        "colab": {
          "base_uri": "https://localhost:8080/"
        },
        "outputId": "06ec50d3-99ca-4a96-ff0d-13b250f9dbb9"
      },
      "outputs": [
        {
          "output_type": "stream",
          "name": "stdout",
          "text": [
            "1808\n",
            "BorrState                     2.00\n",
            "BankState                     2.00\n",
            "GrossApproval            106500.00\n",
            "SBAGuaranteedApproval     90525.00\n",
            "ApprovalFiscalYear            1.00\n",
            "DeliveryMethod                1.00\n",
            "subpgmdesc                    1.00\n",
            "InitialInterestRate           5.75\n",
            "ProjectState                  2.00\n",
            "BusinessType                  1.00\n",
            "BusinessAge                   1.00\n",
            "RevolverStatus                0.00\n",
            "JobsSupported                23.00\n",
            "Name: 1808, dtype: float64\n"
          ]
        }
      ],
      "source": [
        "proba_pos= model.predict_proba(X_test)[:, 1]\n",
        "best_row_index = proba_pos.argmax()\n",
        "print(best_row_index)\n",
        "\n",
        "print(X.iloc[best_row_index])"
      ]
    },
    {
      "cell_type": "code",
      "execution_count": null,
      "metadata": {
        "id": "0flZ1WoLpctA",
        "colab": {
          "base_uri": "https://localhost:8080/"
        },
        "outputId": "a05786a8-4fd4-428c-8c98-711511221f70"
      },
      "outputs": [
        {
          "output_type": "stream",
          "name": "stdout",
          "text": [
            "0\n",
            "BorrState                     4.0\n",
            "BankState                     4.0\n",
            "GrossApproval            350000.0\n",
            "SBAGuaranteedApproval    175000.0\n",
            "ApprovalFiscalYear            1.0\n",
            "DeliveryMethod                2.0\n",
            "subpgmdesc                    2.0\n",
            "InitialInterestRate           5.5\n",
            "ProjectState                  4.0\n",
            "BusinessType                  1.0\n",
            "BusinessAge                   1.0\n",
            "RevolverStatus                0.0\n",
            "JobsSupported                 0.0\n",
            "Name: 0, dtype: float64\n"
          ]
        }
      ],
      "source": [
        "proba_pos= model.predict_proba(X_test)[:, 1]\n",
        "worst_row_index = proba_pos.argmin()\n",
        "print(worst_row_index)\n",
        "\n",
        "print(X.iloc[worst_row_index])"
      ]
    },
    {
      "cell_type": "code",
      "execution_count": null,
      "metadata": {
        "id": "U6dftk-cRZ9i",
        "colab": {
          "base_uri": "https://localhost:8080/",
          "height": 466
        },
        "outputId": "06f4c8e2-5558-4da8-b533-7a6b5af2be32"
      },
      "outputs": [
        {
          "output_type": "execute_result",
          "data": {
            "text/plain": [
              "<sklearn.metrics._plot.confusion_matrix.ConfusionMatrixDisplay at 0x7891feca7c70>"
            ]
          },
          "metadata": {},
          "execution_count": 24
        },
        {
          "output_type": "display_data",
          "data": {
            "text/plain": [
              "<Figure size 640x480 with 1 Axes>"
            ],
            "image/png": "[encoded data removed]"
          },
          "metadata": {}
        }
      ],
      "source": [
        "ConfusionMatrixDisplay.from_estimator(model,X_train,y_train, colorbar= False)"
      ]
    },
    {
      "cell_type": "code",
      "execution_count": null,
      "metadata": {
        "id": "70Rh8670VSdk",
        "colab": {
          "base_uri": "https://localhost:8080/",
          "height": 466
        },
        "outputId": "93f431af-5edb-4352-a24f-094aa3f129ed"
      },
      "outputs": [
        {
          "output_type": "execute_result",
          "data": {
            "text/plain": [
              "Text(0.5, 0, 'False Positive Rate')"
            ]
          },
          "metadata": {},
          "execution_count": 25
        },
        {
          "output_type": "display_data",
          "data": {
            "text/plain": [
              "<Figure size 640x480 with 1 Axes>"
            ],
            "image/png": "[encoded data removed]"
          },
          "metadata": {}
        }
      ],
      "source": [
        "metrics.RocCurveDisplay.from_estimator(model, X_test,y_test)\n",
        "plt.plot([0, 1], [0, 1],'r--')\n",
        "plt.ylabel('True Positive Rate')\n",
        "plt.xlabel('False Positive Rate')"
      ]
    },
    {
      "cell_type": "code",
      "source": [
        "from sklearn.metrics import precision_score\n",
        "from sklearn.metrics import confusion_matrix\n",
        "\n",
        "y_pred = model.predict(X_test)\n",
        "conf_matrix = confusion_matrix(y_test, y_pred)\n",
        "true_positives = conf_matrix[1, 1]\n",
        "false_negatives = conf_matrix[1, 0]\n",
        "\n",
        "print('Precision: ' + str(precision_score(y_test, y_pred, pos_label= 1)))\n",
        "print('Recall: ' + str(true_positives / (true_positives + false_negatives)))"
      ],
      "metadata": {
        "colab": {
          "base_uri": "https://localhost:8080/"
        },
        "id": "IWDoQvUDa8bv",
        "outputId": "f8dce5ba-3eec-47fc-ea5b-b99a344a7128"
      },
      "execution_count": null,
      "outputs": [
        {
          "output_type": "stream",
          "name": "stdout",
          "text": [
            "Precision: 0.13138686131386862\n",
            "Recall: 0.4675324675324675\n"
          ]
        }
      ]
    },
    {
      "cell_type": "code",
      "execution_count": null,
      "metadata": {
        "id": "o5zzrv51gOFH",
        "colab": {
          "base_uri": "https://localhost:8080/"
        },
        "outputId": "dde349d5-d9ab-4735-dbbf-4430e39e9b53"
      },
      "outputs": [
        {
          "output_type": "execute_result",
          "data": {
            "text/plain": [
              "0.9793510324483776"
            ]
          },
          "metadata": {},
          "execution_count": 27
        }
      ],
      "source": [
        "X2 = loans_dropped.drop('LoanStatus', axis=1).drop('TermInMonths', axis = 1).drop('InitialInterestRate', axis = 1)\n",
        "y2 = loans_dropped['LoanStatus']\n",
        "\n",
        "X2_train, X2_test, y2_train, y2_test = train_test_split(X2, y2, train_size=0.70, stratify = y2, random_state=21)\n",
        "X2_tune, X2_test, y2_tune, y2_test = train_test_split(X2_test,y2_test,  train_size = 0.50, stratify = y2_test,random_state=49)\n",
        "\n",
        "loan_NN = KNeighborsClassifier(n_neighbors=10)\n",
        "\n",
        "loan_NN.fit(X2_train, y2_train)\n",
        "\n",
        "loan_NN.score(X2_tune, y2_tune)"
      ]
    },
    {
      "cell_type": "code",
      "source": [],
      "metadata": {
        "id": "ma4EbabVh4A3"
      },
      "execution_count": null,
      "outputs": []
    }
  ],
  "metadata": {
    "colab": {
      "provenance": []
    },
    "kernelspec": {
      "display_name": "Python 3",
      "name": "python3"
    },
    "language_info": {
      "name": "python"
    }
  },
  "nbformat": 4,
  "nbformat_minor": 0
}